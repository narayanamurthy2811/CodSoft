{
 "cells": [
  {
   "cell_type": "markdown",
   "id": "80dc296b",
   "metadata": {},
   "source": [
    "# SPAM SMS DETECTION"
   ]
  },
  {
   "cell_type": "code",
   "execution_count": 1,
   "id": "87d4ae8f",
   "metadata": {},
   "outputs": [],
   "source": [
    "import pandas as pd\n",
    "from sklearn.feature_extraction.text import TfidfVectorizer\n",
    "from sklearn.linear_model import LogisticRegression\n",
    "from nltk.corpus import stopwords\n",
    "from sklearn.pipeline import make_pipeline"
   ]
  },
  {
   "cell_type": "code",
   "execution_count": 2,
   "id": "7a0cbcc6",
   "metadata": {},
   "outputs": [],
   "source": [
    "# Load the SMS dataset from the CSV file\n",
    "data = pd.read_csv(\"C:/Users/admin/Desktop/spam.csv\", encoding='latin-1')\n"
   ]
  },
  {
   "cell_type": "code",
   "execution_count": 3,
   "id": "2620f689",
   "metadata": {},
   "outputs": [],
   "source": [
    "# Remove unnecessary columns and rename the remaining ones\n",
    "data = data[['v1', 'v2']]\n",
    "data.columns = ['label', 'message']"
   ]
  },
  {
   "cell_type": "code",
   "execution_count": 4,
   "id": "2fe39b06",
   "metadata": {},
   "outputs": [],
   "source": [
    "# Convert labels to binary values (0 for 'ham' and 1 for 'spam')\n",
    "data['label'] = data['label'].map({'ham': 0, 'spam': 1})\n"
   ]
  },
  {
   "cell_type": "code",
   "execution_count": 5,
   "id": "6bb2c14c",
   "metadata": {},
   "outputs": [],
   "source": [
    "# Lowercase and remove punctuation from the messages\n",
    "data['message'] = data['message'].str.lower().replace('[^\\w\\s]', '', regex=True)"
   ]
  },
  {
   "cell_type": "code",
   "execution_count": 6,
   "id": "77c5368e",
   "metadata": {},
   "outputs": [],
   "source": [
    "# Split the dataset into training and testing sets\n",
    "X_train, X_test, y_train, y_test = train_test_split(data['message'], data['label'], test_size=0.2, random_state=42)"
   ]
  },
  {
   "cell_type": "code",
   "execution_count": 7,
   "id": "621b3798",
   "metadata": {},
   "outputs": [],
   "source": [
    "tfidf_vectorizer = TfidfVectorizer(stop_words=stopwords.words(\"english\"), max_df=0.85)"
   ]
  },
  {
   "cell_type": "code",
   "execution_count": 8,
   "id": "43ccb1e3",
   "metadata": {},
   "outputs": [
    {
     "name": "stdout",
     "output_type": "stream",
     "text": [
      "Classifier: Naive Bayes\n",
      "Accuracy: 0.97\n",
      "Confusion Matrix:\n",
      "[[965   0]\n",
      " [ 36 114]]\n",
      "Classification Report:\n",
      "              precision    recall  f1-score   support\n",
      "\n",
      "           0       0.96      1.00      0.98       965\n",
      "           1       1.00      0.76      0.86       150\n",
      "\n",
      "    accuracy                           0.97      1115\n",
      "   macro avg       0.98      0.88      0.92      1115\n",
      "weighted avg       0.97      0.97      0.97      1115\n",
      "\n",
      "==================================================\n",
      "Classifier: Logistic Regression\n",
      "Accuracy: 0.95\n",
      "Confusion Matrix:\n",
      "[[961   4]\n",
      " [ 50 100]]\n",
      "Classification Report:\n",
      "              precision    recall  f1-score   support\n",
      "\n",
      "           0       0.95      1.00      0.97       965\n",
      "           1       0.96      0.67      0.79       150\n",
      "\n",
      "    accuracy                           0.95      1115\n",
      "   macro avg       0.96      0.83      0.88      1115\n",
      "weighted avg       0.95      0.95      0.95      1115\n",
      "\n",
      "==================================================\n",
      "Classifier: Support Vector Machine\n",
      "Accuracy: 0.98\n",
      "Confusion Matrix:\n",
      "[[963   2]\n",
      " [ 25 125]]\n",
      "Classification Report:\n",
      "              precision    recall  f1-score   support\n",
      "\n",
      "           0       0.97      1.00      0.99       965\n",
      "           1       0.98      0.83      0.90       150\n",
      "\n",
      "    accuracy                           0.98      1115\n",
      "   macro avg       0.98      0.92      0.94      1115\n",
      "weighted avg       0.98      0.98      0.97      1115\n",
      "\n",
      "==================================================\n"
     ]
    }
   ],
   "source": [
    "classifiers = {\n",
    "    \"Naive Bayes\": MultinomialNB(),\n",
    "    \"Logistic Regression\": LogisticRegression(),\n",
    "    \"Support Vector Machine\": SVC()\n",
    "}\n",
    "\n",
    "for clf_name, clf in classifiers.items():\n",
    "    pipeline = make_pipeline(tfidf_vectorizer, clf)\n",
    "    pipeline.fit(X_train, y_train)\n",
    "    y_pred = pipeline.predict(X_test)\n",
    "    \n",
    "    accuracy = accuracy_score(y_test, y_pred)\n",
    "    confusion = confusion_matrix(y_test, y_pred)\n",
    "    report = classification_report(y_test, y_pred)\n",
    "    \n",
    "    print(f\"Classifier: {clf_name}\")\n",
    "    print(f\"Accuracy: {accuracy:.2f}\")\n",
    "    print(f\"Confusion Matrix:\\n{confusion}\")\n",
    "    print(f\"Classification Report:\\n{report}\")\n",
    "    print(\"=\" * 50)\n"
   ]
  },
  {
   "cell_type": "code",
   "execution_count": 15,
   "id": "0f21a646",
   "metadata": {},
   "outputs": [
    {
     "name": "stdout",
     "output_type": "stream",
     "text": [
      "The message is SPAM.\n"
     ]
    }
   ],
   "source": [
    "# Example: Predict if a message is spam \n",
    "example_message = [\"Free gift! Click here to claim now!\"]\n",
    "prediction = classifier.predict(example_message)\n",
    "if prediction[0] == 0:\n",
    "    print(\"The message is HAM (not spam).\")\n",
    "else:\n",
    "    print(\"The message is SPAM.\")\n"
   ]
  },
  {
   "cell_type": "code",
   "execution_count": 16,
   "id": "418cb561",
   "metadata": {},
   "outputs": [
    {
     "name": "stdout",
     "output_type": "stream",
     "text": [
      "The message is HAM (not spam).\n"
     ]
    }
   ],
   "source": [
    "# Example: Predict if a message is ham\n",
    "example_message = [\"U dun say so early hor... U c already then say...\"]\n",
    "prediction = classifier.predict(example_message)\n",
    "if prediction[0] == 0:\n",
    "    print(\"The message is HAM (not spam).\")\n",
    "else:\n",
    "    print(\"The message is SPAM.\")\n"
   ]
  },
  {
   "cell_type": "code",
   "execution_count": null,
   "id": "7032b425",
   "metadata": {},
   "outputs": [],
   "source": []
  }
 ],
 "metadata": {
  "kernelspec": {
   "display_name": "Python 3 (ipykernel)",
   "language": "python",
   "name": "python3"
  },
  "language_info": {
   "codemirror_mode": {
    "name": "ipython",
    "version": 3
   },
   "file_extension": ".py",
   "mimetype": "text/x-python",
   "name": "python",
   "nbconvert_exporter": "python",
   "pygments_lexer": "ipython3",
   "version": "3.10.9"
  }
 },
 "nbformat": 4,
 "nbformat_minor": 5
}
